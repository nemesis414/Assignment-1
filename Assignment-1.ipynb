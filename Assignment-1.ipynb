{
 "cells": [
  {
   "cell_type": "code",
   "execution_count": 16,
   "id": "deecb178-794d-43b2-8626-b7400a4dc698",
   "metadata": {},
   "outputs": [],
   "source": [
    "# Q1. Create one variable containing following type of data:\n",
    "\n",
    "    #(i) string\n",
    "a = \"My Name Birendra\"\n",
    "\n",
    "    #(ii) list\n",
    "b = [23,13,133,23.34,\"JEE\",True]\n",
    "\n",
    "    #(iii) float\n",
    "c = 35.5\n",
    "\n",
    "    #(iv) tuple\n",
    "d = (2,34,56,\"NDA\",True)\n"
   ]
  },
  {
   "cell_type": "markdown",
   "id": "102b9dfe-7b99-48e0-9d26-431bc1eed68d",
   "metadata": {},
   "source": [
    "#Q2. Given are some following variables containing data:\n",
    "\n",
    "    #(i) var1 = ‘ ‘\n",
    "> 'var1' is a string data type with an empty value.\n",
    "\n",
    "    #(ii) var2 = ‘[ DS , ML , Python]’\n",
    "> `var2` is a string data type containing a list.\n",
    "\n",
    "    #(iii) var3 = [ ‘DS’ , ’ML’ , ‘Python’ ]\n",
    "> `var3` is a list data type containing three string elements.\n",
    "\n",
    "    #(iv) var4 = 1.\n",
    "> `var4` is an integer data type with a value of 1."
   ]
  },
  {
   "cell_type": "markdown",
   "id": "d68a031d-7537-4b6b-9160-c21371a54716",
   "metadata": {},
   "source": [
    "#Q3. Explain the use of the following operators using an example:\n",
    "\n",
    "(i) /\n",
    "(ii) %\n",
    "(iii) //\n",
    "(iv) **\n",
    "\n",
    "> (i) `/` is the division operator, which is used to divide two numbers. For example, if we have two variables `a = 10` and `b = 2`, then the expression `a / b` will give us the result of dividing `a` by `b`, which is `5.0`.\n",
    "\n",
    "> (ii) `%` is the modulo operator, also known as the remainder operator. It returns the remainder of the division operation. For example, if we have `a = 10` and `b = 3`, then the expression `a % b` will give us the remainder of dividing `a` by `b`, which is `1`.\n",
    "\n",
    "> (iii) `//` is the floor division operator, which returns the integer value of the result of division. For example, if we have `a = 10` and `b = 3`, then the expression `a // b` will give us the integer value of dividing `a` by `b`, which is `3`.\n",
    "\n",
    "> (iv) `**` is the exponentiation operator, which is used to raise a number to a power. For example, if we have `a = 2` and `b = 3`, then the expression `a ** b` will give us `2` raised to the power of `3`, which is `8`."
   ]
  },
  {
   "cell_type": "code",
   "execution_count": 17,
   "id": "56557906-fbe6-46db-8dd6-dbb0c5218456",
   "metadata": {},
   "outputs": [
    {
     "name": "stdout",
     "output_type": "stream",
     "text": [
      "Hello <class 'str'>\n",
      "5 <class 'int'>\n",
      "7.8 <class 'float'>\n",
      "True <class 'bool'>\n",
      "[1, 2, 3] <class 'list'>\n",
      "{'name': 'Birendra', 'age': 18} <class 'dict'>\n",
      "None <class 'NoneType'>\n",
      "world <class 'str'>\n",
      "0 <class 'int'>\n",
      "('apple', 'banana') <class 'tuple'>\n"
     ]
    }
   ],
   "source": [
    "#Q4. Create a list of length 10 of your choice containing multiple types of data. Using for loop print the element and its data type:\n",
    "\n",
    "my_list = ['Hello', 5, 7.8, True, [1, 2, 3], {'name': 'Birendra', 'age': 18}, None, 'world', 0, ('apple', 'banana')]\n",
    "for item in my_list:\n",
    "    print(item, type(item))"
   ]
  },
  {
   "cell_type": "code",
   "execution_count": 25,
   "id": "123767b7-e29e-44e6-b660-457285f69b35",
   "metadata": {},
   "outputs": [
    {
     "name": "stdin",
     "output_type": "stream",
     "text": [
      "Enter the dividend :  150\n",
      "Enter the divisor :  5\n"
     ]
    },
    {
     "name": "stdout",
     "output_type": "stream",
     "text": [
      "Dividend is divisible by 5 for 2 times.\n"
     ]
    }
   ],
   "source": [
    "#Q5. Using a while loop, verify if the number A is purely divisible by number B and if so then how many times it can be divisible.\n",
    "\n",
    "A = int(input(\"Enter the dividend : \"))\n",
    "B = int(input(\"Enter the divisor : \"))\n",
    "\n",
    "count = 0\n",
    "while A % B == 0:\n",
    "    A = A / B\n",
    "    count += 1\n",
    "\n",
    "if count > 0:\n",
    "    print(f\"Dividend is divisible by {B} for {count} times.\")\n",
    "else:\n",
    "    print(f\"Dividend is not divisible by {B}.\")\n"
   ]
  },
  {
   "cell_type": "code",
   "execution_count": 26,
   "id": "2101c3bf-2564-47cb-9c90-31d3875227c7",
   "metadata": {},
   "outputs": [
    {
     "name": "stdout",
     "output_type": "stream",
     "text": [
      "4 is not divisible by 3.\n",
      "3 is divisible by 3.\n",
      "7 is not divisible by 3.\n",
      "6 is divisible by 3.\n",
      "21 is divisible by 3.\n",
      "19 is not divisible by 3.\n",
      "12 is divisible by 3.\n",
      "8 is not divisible by 3.\n",
      "27 is divisible by 3.\n",
      "5 is not divisible by 3.\n",
      "9 is divisible by 3.\n",
      "18 is divisible by 3.\n",
      "22 is not divisible by 3.\n",
      "16 is not divisible by 3.\n",
      "11 is not divisible by 3.\n",
      "33 is divisible by 3.\n",
      "15 is divisible by 3.\n",
      "25 is not divisible by 3.\n",
      "30 is divisible by 3.\n",
      "14 is not divisible by 3.\n",
      "17 is not divisible by 3.\n",
      "13 is not divisible by 3.\n",
      "23 is not divisible by 3.\n",
      "20 is not divisible by 3.\n",
      "10 is not divisible by 3.\n"
     ]
    }
   ],
   "source": [
    "#Q6. Create a list containing 25 int type data. Using for loop and if-else condition print if the element is divisible by 3 or not.\n",
    "\n",
    "my_list = [4, 3, 7, 6, 21, 19, 12, 8, 27, 5, 9, 18, 22, 16, 11, 33, 15, 25, 30, 14, 17, 13, 23, 20, 10]\n",
    "\n",
    "for num in my_list:\n",
    "    if num % 3 == 0:\n",
    "        print(f\"{num} is divisible by 3.\")\n",
    "    else:\n",
    "        print(f\"{num} is not divisible by 3.\")"
   ]
  },
  {
   "cell_type": "markdown",
   "id": "a988fb12-7389-42d3-a130-0fb6242fff05",
   "metadata": {},
   "source": [
    "#Q7. What do you understand about mutable and immutable data types? Give examples for both showing this property.\n",
    "\n",
    "In Python, mutable data types are those that can be changed after they are created, while immutable data types are those that cannot be changed after they are created. Here are some examples of both mutable and immutable data types:\n",
    "\n",
    "Mutable Data Types:\n",
    "- Lists: Lists are mutable, which means that their elements can be modified after they are created. For example, we can append new elements to a list, remove elements from a list, or change the value of an existing element. Here's an example:\n",
    "\n",
    "```python\n",
    "my_list = [1, 2, 3]\n",
    "my_list.append(4)  # add new element to the end of the list\n",
    "my_list[1] = 5    # change the value of the second element\n",
    "print(my_list)    # output: [1, 5, 3, 4]\n",
    "```\n",
    "\n",
    "- Dictionaries: Dictionaries are another mutable data type in Python. We can add, modify, or delete key-value pairs in a dictionary after it is created. Here's an example:\n",
    "\n",
    "```python\n",
    "my_dict = {'apple': 1, 'banana': 2, 'cherry': 3}\n",
    "my_dict['banana'] = 4  # change the value of the 'banana' key\n",
    "my_dict['orange'] = 5  # add a new key-value pair to the dictionary\n",
    "del my_dict['cherry']  # remove the 'cherry' key-value pair from the dictionary\n",
    "print(my_dict)         # output: {'apple': 1, 'banana': 4, 'orange': 5}\n",
    "```\n",
    "\n",
    "Immutable Data Types:\n",
    "- Strings: Strings are immutable in Python, which means that we cannot modify their contents after they are created. For example, we cannot change a single character in a string or add a new character to an existing string. Here's an example:\n",
    "\n",
    "```python\n",
    "my_string = 'Hello, World!'\n",
    "my_string[7] = '-'    # TypeError: 'str' object does not support item assignment\n",
    "my_string += ' How are you?'   # create a new string instead of modifying the existing one\n",
    "print(my_string)       # output: 'Hello, World! How are you?'\n",
    "```\n",
    "\n",
    "- Tuples: Tuples are another immutable data type in Python. We cannot add, remove, or modify elements in a tuple after it is created. Here's an example:\n",
    "\n",
    "```python\n",
    "my_tuple = (1, 2, 3)\n",
    "my_tuple[1] = 4    # TypeError: 'tuple' object does not support item assignment\n",
    "my_tuple += (4, 5)  # create a new tuple instead of modifying the existing one\n",
    "print(my_tuple)     # output: (1, 2, 3, 4, 5)\n",
    "```"
   ]
  }
 ],
 "metadata": {
  "kernelspec": {
   "display_name": "Python 3 (ipykernel)",
   "language": "python",
   "name": "python3"
  },
  "language_info": {
   "codemirror_mode": {
    "name": "ipython",
    "version": 3
   },
   "file_extension": ".py",
   "mimetype": "text/x-python",
   "name": "python",
   "nbconvert_exporter": "python",
   "pygments_lexer": "ipython3",
   "version": "3.10.8"
  }
 },
 "nbformat": 4,
 "nbformat_minor": 5
}
